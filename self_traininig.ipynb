{
  "nbformat": 4,
  "nbformat_minor": 0,
  "metadata": {
    "colab": {
      "provenance": [],
      "authorship_tag": "ABX9TyPYyJHDqqtuF2R/QTpofSTH",
      "include_colab_link": true
    },
    "kernelspec": {
      "name": "python3",
      "display_name": "Python 3"
    },
    "language_info": {
      "name": "python"
    }
  },
  "cells": [
    {
      "cell_type": "markdown",
      "metadata": {
        "id": "view-in-github",
        "colab_type": "text"
      },
      "source": [
        "<a href=\"https://colab.research.google.com/github/tejshahi/Semi-supervised/blob/main/self_traininig.ipynb\" target=\"_parent\"><img src=\"https://colab.research.google.com/assets/colab-badge.svg\" alt=\"Open In Colab\"/></a>"
      ]
    },
    {
      "cell_type": "code",
      "execution_count": 212,
      "metadata": {
        "id": "HKov_xeuHWCR"
      },
      "outputs": [],
      "source": [
        "#import necessart library\n",
        "import numpy as np\n",
        "from sklearn import datasets\n",
        "from sklearn.preprocessing import StandardScaler\n",
        "from sklearn.ensemble import RandomForestClassifier\n",
        "from sklearn.linear_model import LogisticRegression\n",
        "from sklearn.semi_supervised import SelfTrainingClassifier\n",
        "from sklearn.metrics import classification_report\n",
        "from sklearn.model_selection import train_test_split"
      ]
    },
    {
      "cell_type": "code",
      "source": [
        "# load IRIS dataset\n",
        "iris = datasets.load_iris()"
      ],
      "metadata": {
        "id": "02t1K01QHuc1"
      },
      "execution_count": 213,
      "outputs": []
    },
    {
      "cell_type": "code",
      "source": [
        "##train test split\n",
        "split=0.8\n",
        "X, X_test, y, y_test = train_test_split(iris.data, iris.target, test_size=split, random_state=42)\n",
        "print(X.shape, y.shape)"
      ],
      "metadata": {
        "colab": {
          "base_uri": "https://localhost:8080/"
        },
        "id": "2ro6bPQuc1Qp",
        "outputId": "038330a9-7521-4c96-cacb-aa6e4438a7a2"
      },
      "execution_count": 214,
      "outputs": [
        {
          "output_type": "stream",
          "name": "stdout",
          "text": [
            "(30, 4) (30,)\n"
          ]
        }
      ]
    },
    {
      "cell_type": "code",
      "source": [
        "iris.target_names"
      ],
      "metadata": {
        "colab": {
          "base_uri": "https://localhost:8080/"
        },
        "id": "cCt6jTARgktf",
        "outputId": "59f22f92-9852-4a68-9a3e-0c37d07eea25"
      },
      "execution_count": 215,
      "outputs": [
        {
          "output_type": "execute_result",
          "data": {
            "text/plain": [
              "array(['setosa', 'versicolor', 'virginica'], dtype='<U10')"
            ]
          },
          "metadata": {},
          "execution_count": 215
        }
      ]
    },
    {
      "cell_type": "code",
      "source": [
        "#unassigned unlable\n",
        "X_train, X_unlabeled, y_train, y_unlabeled = train_test_split(X, y, test_size=0.5, random_state=42)\n",
        "print(X_train.shape, y_train.shape)\n",
        "print(X_unlabeled.shape, y_unlabeled.shape)\n"
      ],
      "metadata": {
        "colab": {
          "base_uri": "https://localhost:8080/"
        },
        "id": "zj7bHEg7HzUl",
        "outputId": "d7dafb85-0980-4a27-e6dd-ad79d7c7d411"
      },
      "execution_count": 216,
      "outputs": [
        {
          "output_type": "stream",
          "name": "stdout",
          "text": [
            "(15, 4) (15,)\n",
            "(15, 4) (15,)\n"
          ]
        }
      ]
    },
    {
      "cell_type": "code",
      "source": [
        "y_train"
      ],
      "metadata": {
        "colab": {
          "base_uri": "https://localhost:8080/"
        },
        "id": "CFI51gRbjtO-",
        "outputId": "451816a5-871b-44b8-ecb6-bae1c3c13299"
      },
      "execution_count": 217,
      "outputs": [
        {
          "output_type": "execute_result",
          "data": {
            "text/plain": [
              "array([2, 0, 1, 1, 1, 1, 2, 1, 2, 1, 2, 2, 0, 2, 2])"
            ]
          },
          "metadata": {},
          "execution_count": 217
        }
      ]
    },
    {
      "cell_type": "code",
      "source": [
        "#assign unlable -1 to dataset\n",
        "y_unlabeled = -1 * np.ones(X_unlabeled.shape[0])\n"
      ],
      "metadata": {
        "id": "M1BtQ2g2hWaw"
      },
      "execution_count": 218,
      "outputs": []
    },
    {
      "cell_type": "code",
      "source": [
        "#combine X_train and X_unlabelled as well as y_train and y_unlabled\n",
        "X_lu = np.concatenate((X_train, X_unlabeled), axis=0)\n",
        "y_lu = np.concatenate((y_train, y_unlabeled), axis=0)"
      ],
      "metadata": {
        "id": "UOax8IJbhiZI"
      },
      "execution_count": 219,
      "outputs": []
    },
    {
      "cell_type": "code",
      "source": [
        "y_lu"
      ],
      "metadata": {
        "colab": {
          "base_uri": "https://localhost:8080/"
        },
        "id": "4s8PkxnjiJ1l",
        "outputId": "a3de0cd5-e933-47c1-b53b-7ba895187503"
      },
      "execution_count": 220,
      "outputs": [
        {
          "output_type": "execute_result",
          "data": {
            "text/plain": [
              "array([ 2.,  0.,  1.,  1.,  1.,  1.,  2.,  1.,  2.,  1.,  2.,  2.,  0.,\n",
              "        2.,  2., -1., -1., -1., -1., -1., -1., -1., -1., -1., -1., -1.,\n",
              "       -1., -1., -1., -1.])"
            ]
          },
          "metadata": {},
          "execution_count": 220
        }
      ]
    },
    {
      "cell_type": "code",
      "source": [
        "#introduce the base classifier\n",
        "base_classifier = RandomForestClassifier()"
      ],
      "metadata": {
        "id": "X4qLwernIGXs"
      },
      "execution_count": 221,
      "outputs": []
    },
    {
      "cell_type": "code",
      "source": [
        "# Define the self-training classifier\n",
        "self_training_model = SelfTrainingClassifier(base_classifier)"
      ],
      "metadata": {
        "id": "058bnesbIpfs"
      },
      "execution_count": 224,
      "outputs": []
    },
    {
      "cell_type": "code",
      "source": [
        "# Train the self-training classifier\n",
        "#scalar=StandardScaler()\n",
        "#X_lu = scalar.fit_transform(X_lu)\n",
        "self_training_model.fit(X_lu, y_lu)\n",
        "X_lu = scalar.fit_transform(X_lu)\n",
        "self_training_model.fit(X_lu, y_lu)\n",
        "\n",
        "# Predict on the test set\n",
        "y_pred = self_training_model.predict(X_test)\n",
        "\n",
        "# Evaluate the performance\n",
        "print(classification_report(y_test, y_pred))"
      ],
      "metadata": {
        "colab": {
          "base_uri": "https://localhost:8080/"
        },
        "id": "7t3DZwLVIsSr",
        "outputId": "2c2d4b73-760f-4245-8267-f92eca749e00"
      },
      "execution_count": 225,
      "outputs": [
        {
          "output_type": "stream",
          "name": "stdout",
          "text": [
            "              precision    recall  f1-score   support\n",
            "\n",
            "           0       0.00      0.00      0.00        43\n",
            "           1       0.00      0.00      0.00        39\n",
            "           2       0.32      1.00      0.48        38\n",
            "\n",
            "    accuracy                           0.32       120\n",
            "   macro avg       0.11      0.33      0.16       120\n",
            "weighted avg       0.10      0.32      0.15       120\n",
            "\n"
          ]
        },
        {
          "output_type": "stream",
          "name": "stderr",
          "text": [
            "/usr/local/lib/python3.10/dist-packages/sklearn/metrics/_classification.py:1344: UndefinedMetricWarning: Precision and F-score are ill-defined and being set to 0.0 in labels with no predicted samples. Use `zero_division` parameter to control this behavior.\n",
            "  _warn_prf(average, modifier, msg_start, len(result))\n",
            "/usr/local/lib/python3.10/dist-packages/sklearn/metrics/_classification.py:1344: UndefinedMetricWarning: Precision and F-score are ill-defined and being set to 0.0 in labels with no predicted samples. Use `zero_division` parameter to control this behavior.\n",
            "  _warn_prf(average, modifier, msg_start, len(result))\n",
            "/usr/local/lib/python3.10/dist-packages/sklearn/metrics/_classification.py:1344: UndefinedMetricWarning: Precision and F-score are ill-defined and being set to 0.0 in labels with no predicted samples. Use `zero_division` parameter to control this behavior.\n",
            "  _warn_prf(average, modifier, msg_start, len(result))\n"
          ]
        }
      ]
    },
    {
      "cell_type": "code",
      "source": [
        "X_test.shape, X_lu.shape"
      ],
      "metadata": {
        "colab": {
          "base_uri": "https://localhost:8080/"
        },
        "id": "-GzxBFFfjNJr",
        "outputId": "ddbe3b05-e03f-4e59-fa43-e3633effc721"
      },
      "execution_count": 226,
      "outputs": [
        {
          "output_type": "execute_result",
          "data": {
            "text/plain": [
              "((120, 4), (30, 4))"
            ]
          },
          "metadata": {},
          "execution_count": 226
        }
      ]
    },
    {
      "cell_type": "code",
      "source": [
        "#evaluate with out self training\n",
        "y_pred = base_classifier.fit(X_train, y_train).predict(X_test)\n",
        "print(classification_report(y_test, y_pred))"
      ],
      "metadata": {
        "colab": {
          "base_uri": "https://localhost:8080/"
        },
        "id": "sTCEMoyiIxpy",
        "outputId": "9c083895-f51b-4529-eb31-10cfe29cc01d"
      },
      "execution_count": 227,
      "outputs": [
        {
          "output_type": "stream",
          "name": "stdout",
          "text": [
            "              precision    recall  f1-score   support\n",
            "\n",
            "           0       1.00      1.00      1.00        43\n",
            "           1       0.92      0.87      0.89        39\n",
            "           2       0.88      0.92      0.90        38\n",
            "\n",
            "    accuracy                           0.93       120\n",
            "   macro avg       0.93      0.93      0.93       120\n",
            "weighted avg       0.93      0.93      0.93       120\n",
            "\n"
          ]
        }
      ]
    },
    {
      "cell_type": "code",
      "source": [],
      "metadata": {
        "id": "7GOCF424guQA"
      },
      "execution_count": 97,
      "outputs": []
    }
  ]
}